{
 "cells": [
  {
   "cell_type": "code",
   "execution_count": 223,
   "metadata": {
    "collapsed": true,
    "deletable": true,
    "editable": true,
    "slideshow": {
     "slide_type": "skip"
    }
   },
   "outputs": [],
   "source": [
    "%matplotlib inline"
   ]
  },
  {
   "cell_type": "markdown",
   "metadata": {
    "deletable": true,
    "editable": true,
    "slideshow": {
     "slide_type": "slide"
    }
   },
   "source": [
    "## Rotationen in 2D\n",
    "### Thomas Schmelzer\n",
    "\n"
   ]
  },
  {
   "cell_type": "markdown",
   "metadata": {
    "slideshow": {
     "slide_type": "slide"
    }
   },
   "source": [
    "### Warnung\n",
    "\n",
    "Quaternions are the things that scare all manner of mice and men.  They are the things that go bump in the night.  They are the reason your math teacher gave you an F.  They are all that you have come to fear, and more.  **Quaternions are your worst nightmare**.\n",
    "\n",
    "http://www.cprogramming.com/tutorial/3d/quaternions.html"
   ]
  },
  {
   "cell_type": "markdown",
   "metadata": {
    "slideshow": {
     "slide_type": "slide"
    }
   },
   "source": [
    "### Rotationen in 2D\n",
    "* Wie rotieren wir z.B. ein Polygon?\n",
    "* Wann ist eine lineare Abbildung eine Rotation?\n",
    "* Rotationsmatrizen und komplexe Zahlen.\n",
    "* Hoffnung für 3D? "
   ]
  },
  {
   "cell_type": "markdown",
   "metadata": {
    "deletable": true,
    "editable": true,
    "slideshow": {
     "slide_type": "slide"
    }
   },
   "source": [
    "### Unser Ziel:\n",
    "* Wer interessiert sich warum für Quaternionen? Sollten wir das auch tun?\n",
    "* Die mathematische Heimat und Verwandten der Quaternionen.\n",
    "* Erste kleinere Anwendungen..."
   ]
  },
  {
   "cell_type": "markdown",
   "metadata": {
    "slideshow": {
     "slide_type": "slide"
    }
   },
   "source": [
    "### Welches Spiel war das brutalste Game aller Zeiten?"
   ]
  },
  {
   "cell_type": "code",
   "execution_count": 224,
   "metadata": {
    "collapsed": true,
    "deletable": true,
    "editable": true,
    "slideshow": {
     "slide_type": "skip"
    }
   },
   "outputs": [],
   "source": [
    "import matplotlib.pyplot as plt\n",
    "import numpy as np\n",
    "\n",
    "def pp(ax, point, **kwargs):\n",
    "    ax.plot([0, point[0]], [0, point[1]], **kwargs)\n",
    "        \n",
    "def baseimage(a1, a2):\n",
    "    fig = plt.figure(figsize=(6,6))\n",
    "    ax = fig.add_subplot(111, aspect='equal')\n",
    "    pp(ax, point=np.array([1,0]), color=\"b\", linewidth=5)\n",
    "    pp(ax, point=np.array([0,1]), color=\"r\", linewidth=5)\n",
    "    pp(ax, point=np.array(a1), color=\"b\", linewidth=5, linestyle=\"--\")\n",
    "    pp(ax, point=np.array(a2), color=\"r\", linewidth=5, linestyle=\"--\")\n",
    "    plt.grid()\n",
    "    "
   ]
  },
  {
   "cell_type": "code",
   "execution_count": 225,
   "metadata": {
    "collapsed": false,
    "deletable": true,
    "editable": true,
    "slideshow": {
     "slide_type": "slide"
    }
   },
   "outputs": [
    {
     "data": {
      "image/png": "[encoded data removed]",
      "text/plain": [
       "<matplotlib.figure.Figure at 0x7f3477f26b38>"
      ]
     },
     "metadata": {},
     "output_type": "display_data"
    }
   ],
   "source": [
    "from numpy import cos, sin, pi\n",
    "phi=pi/6\n",
    "baseimage(a1=[cos(phi), sin(phi)], a2=[-sin(phi), cos(phi)])"
   ]
  },
  {
   "cell_type": "code",
   "execution_count": 226,
   "metadata": {
    "collapsed": false,
    "deletable": true,
    "editable": true,
    "slideshow": {
     "slide_type": "slide"
    }
   },
   "outputs": [
    {
     "data": {
      "image/png": "[encoded data removed]",
      "text/plain": [
       "<matplotlib.figure.Figure at 0x7f3477ee03c8>"
      ]
     },
     "metadata": {},
     "output_type": "display_data"
    }
   ],
   "source": [
    "from numpy import cos, sin, pi\n",
    "phi=pi/6\n",
    "baseimage(a1=[cos(phi), sin(phi)], a2=[-2*sin(phi), 2*cos(phi)])"
   ]
  },
  {
   "cell_type": "code",
   "execution_count": 227,
   "metadata": {
    "collapsed": false,
    "deletable": true,
    "editable": true,
    "slideshow": {
     "slide_type": "slide"
    }
   },
   "outputs": [
    {
     "data": {
      "image/png": "[encoded data removed]",
      "text/plain": [
       "<matplotlib.figure.Figure at 0x7f34778f40b8>"
      ]
     },
     "metadata": {},
     "output_type": "display_data"
    }
   ],
   "source": [
    "from numpy import cos, sin, pi\n",
    "phi=pi/6\n",
    "baseimage(a1=[cos(phi), sin(phi)], a2=[sin(phi), cos(phi)])"
   ]
  },
  {
   "cell_type": "code",
   "execution_count": 228,
   "metadata": {
    "collapsed": false,
    "deletable": true,
    "editable": true,
    "slideshow": {
     "slide_type": "slide"
    }
   },
   "outputs": [
    {
     "data": {
      "image/png": "[encoded data removed]",
      "text/plain": [
       "<matplotlib.figure.Figure at 0x7f3478090ac8>"
      ]
     },
     "metadata": {},
     "output_type": "display_data"
    }
   ],
   "source": [
    "from numpy import cos, sin, pi\n",
    "phi=pi/6\n",
    "baseimage(a1=[cos(phi), sin(phi)], a2=[sin(phi), -cos(phi)])"
   ]
  },
  {
   "cell_type": "code",
   "execution_count": 229,
   "metadata": {
    "collapsed": false,
    "deletable": true,
    "editable": true,
    "scrolled": true,
    "slideshow": {
     "slide_type": "slide"
    }
   },
   "outputs": [
    {
     "data": {
      "image/png": "[encoded data removed]",
      "text/plain": [
       "<matplotlib.figure.Figure at 0x7f3478090390>"
      ]
     },
     "metadata": {},
     "output_type": "display_data"
    }
   ],
   "source": [
    "from numpy import cos, sin, pi\n",
    "phi=pi/6\n",
    "baseimage(a1=[-1, 0], a2=[0, -1])"
   ]
  },
  {
   "cell_type": "markdown",
   "metadata": {
    "deletable": true,
    "editable": true,
    "slideshow": {
     "slide_type": "slide"
    }
   },
   "source": [
    "### Die Gruppe $\\textrm{SO}(2)$\n",
    "\n",
    "* Spalten von A müssen orthonormal sein und $\\det(\\mathbf{A}) = 1$. \n",
    "\n",
    "* Teste mit $\\lVert\\mathbf{A}^{T}\\mathbf{A} - \\mathbf{I}\\rVert < \\varepsilon$ und expliziter Berechnung von $\\det(\\mathbf{A})$.\n",
    "\n",
    "* Diese Matrizen bilden eine Gruppe (bzgl. der Multiplikation). $\\mathbf{A}_1, \\mathbf{A}_2 \\in \\textrm{SO}(2)$ dann gilt $\\mathbf{A}_1 \\mathbf{A}_2 \\in \\textrm{SO}(2)$.\n",
    "\n",
    "### Die Rotationen in 2D sind die Elemente von $\\textrm{SO}(2)$.\n"
   ]
  },
  {
   "cell_type": "markdown",
   "metadata": {
    "deletable": true,
    "editable": true,
    "slideshow": {
     "slide_type": "slide"
    }
   },
   "source": [
    "### Komplexe (Einheits-)Zahlen als Rotation\n",
    "Wir können aber auch jeden Punkt $(a,b) \\in \\mathbb{R}^2$ mit der komplexen Zahl $z=a+i b$ eindeutig identifizieren. \n",
    "Die Drehung um den Winkel $\\varphi$ entspricht dann einfach einer komplexen Multiplikation \n",
    "\\\\[\n",
    "u z = z u\n",
    "\\\\]\n",
    "wobei gilt $u=\\cos(\\varphi) + i\\sin(\\varphi)$. Zurück ins Reelle per Real- und Imaginärteil.\n",
    "\n",
    "$\\textrm{SO}(2)$ eng verwandt mit den komplexen Zahlen auf der Einheitssphäre (der Rand der Einheitsscheibe).\n",
    "\n",
    "### Komplexe Zahlen einfacher als Rotationsmatrizen, aber Schritt in höhere Dimensionen unklar.\n",
    "\n"
   ]
  },
  {
   "cell_type": "code",
   "execution_count": 230,
   "metadata": {
    "collapsed": false,
    "deletable": true,
    "editable": true,
    "slideshow": {
     "slide_type": "slide"
    }
   },
   "outputs": [
    {
     "data": {
      "image/png": "[encoded data removed]",
      "text/plain": [
       "<matplotlib.figure.Figure at 0x7f3477944d30>"
      ]
     },
     "metadata": {},
     "output_type": "display_data"
    }
   ],
   "source": [
    "fig = plt.figure(figsize=(6,6))\n",
    "ax = fig.add_subplot(111, aspect='equal')\n",
    "pp(ax, point=np.array([1,2]), color=\"b\", linewidth=5)\n",
    "pp(ax, point=np.array([0,1]), color=\"r\", linewidth=5)\n",
    "pp(ax, point=np.array([-2,1]), color=\"b\", linewidth=5, linestyle=\"--\")\n",
    "plt.grid()\n",
    "\n",
    "# z=1+2i\n",
    "# u=i\n",
    "# u*z=i+i*2i=-2+i  weil i*i=-1\n",
    "# Rotation um pi/2"
   ]
  },
  {
   "cell_type": "markdown",
   "metadata": {
    "deletable": true,
    "editable": true,
    "slideshow": {
     "slide_type": "slide"
    }
   },
   "source": [
    "### Hoffnung für 3D?\n",
    "* Rotationen in 2D beschrieben durch $2$-dimensionale Zahlen.\n",
    "* Komplexe Zahlen aber nutzlos in höheren Dimensionen. Gibt es $3$ dimensionale Zahlen? Gibt es eine Verallgemeinerung der komplexen Zahlen für höhere Dimension.\n",
    "* Gibt es $\\textrm{SO}(3)$ verwandt mit $X$? Was ist $X$?\n",
    "* Rotationen in 2D beschrieben mit nur einem Parameter. Wieviele freie Parameter brauchen wir für 3D?\n",
    "* Matrizen verfügbar in allen Dimensionen (ganzzahlig), aber etwas unhandlich.\n"
   ]
  },
  {
   "cell_type": "markdown",
   "metadata": {
    "slideshow": {
     "slide_type": "slide"
    }
   },
   "source": [
    "### Animationen in 2D?\n",
    "* Wir drehen Punkte $z = x +i y$ um den Winkel $\\varphi$. \n",
    "* Wir interpolieren diese Drehung mittels $\\varphi(t) = \\frac{t}{T}\\phi$.\n",
    "* Die Animiation ist dann einfach \n",
    "\\\\[\n",
    "z(t) = (\\cos(\\varphi(t)) + i\\sin(\\varphi(t))) z(0)\n",
    "\\\\]\n",
    "* Eine Animation ist hier nur eine Hintereinanderausführung vieler, vieler Rotationen. \n",
    "* Gleichmässige Winkelgeschwindigkeit impliziert weniger **Ruckeln**."
   ]
  },
  {
   "cell_type": "code",
   "execution_count": 231,
   "metadata": {
    "collapsed": false,
    "deletable": true,
    "editable": true,
    "scrolled": true,
    "slideshow": {
     "slide_type": "skip"
    }
   },
   "outputs": [],
   "source": [
    "# builder for so2 matrices...\n",
    "def so2(phi):\n",
    "    return np.array([[cos(phi), -sin(phi)], [sin(phi), cos(phi)]])"
   ]
  },
  {
   "cell_type": "markdown",
   "metadata": {
    "collapsed": true,
    "deletable": true,
    "editable": true,
    "slideshow": {
     "slide_type": "skip"
    }
   },
   "source": [
    "Kurzes Quiz\n",
    "* Eine Drehung in 2D stellen wir als Rotationsmatrix oder komplexe (Einheits)Zahl dar.\n",
    "* Was gilt für die Spalten einer solchen Rotationsmatrix?\n",
    "* Was gilt für die Determinante einer solchen Matrix?\n",
    "* Wie testet man die Orthonormalität einer Matrix?\n",
    "* Schreiben Sie eine Klasse, die eine Rotation in 2D beschreibt.\n",
    "* Multiplizieren Sie 10000 zufällig gewählte Rotationsmatrizen und untersuchen Sie, ob das Produkt auch wirklich eine Rotationsmatrix ist.\n",
    "    \n",
    "Der Zugang via Matrizen öffnet den Weg in alle höheren Dimensionen, $\\textrm{SO}(3)$, $\\textrm{SO}(4)$, ...\n",
    "Der Zugang via komplexer Zahlen erleichtert das Verständnis für Quaterionen.\n",
    "\n",
    "Die Rotationsmatrizen sind letztlich durch nur einen(!) Parameter $\\varphi$ bestimmt. \n",
    " \n",
    "    "
   ]
  },
  {
   "cell_type": "code",
   "execution_count": 232,
   "metadata": {
    "collapsed": false,
    "deletable": true,
    "editable": true,
    "slideshow": {
     "slide_type": "skip"
    }
   },
   "outputs": [
    {
     "name": "stdout",
     "output_type": "stream",
     "text": [
      "[[ 0.8660254 -0.5      ]\n",
      " [ 0.5        0.8660254]]\n",
      "Eigenvalues: \n",
      "[ 0.8660254+0.5j  0.8660254-0.5j]\n",
      "Eigenvectors (columns): \n",
      "[[ 0.70710678+0.j          0.70710678-0.j        ]\n",
      " [ 0.00000000-0.70710678j  0.00000000+0.70710678j]]\n"
     ]
    }
   ],
   "source": [
    "A=so2(pi/6)\n",
    "print(A)\n",
    "from numpy.linalg import eig\n",
    "print(\"Eigenvalues: \")\n",
    "print(eig(A)[0])\n",
    "print(\"Eigenvectors (columns): \")\n",
    "print(eig(A)[1])\n",
    "\n",
    "# Eigenvalues come in pairs (could be 1,1 or -1,-1 or z and z conjugate)\n",
    "# in partcular z*z(conj)=1=det(A)\n",
    "# and also\n",
    "# 2*cos(phi)=z + conj(z)\n",
    "\n"
   ]
  },
  {
   "cell_type": "code",
   "execution_count": 233,
   "metadata": {
    "collapsed": false,
    "deletable": true,
    "editable": true,
    "slideshow": {
     "slide_type": "skip"
    }
   },
   "outputs": [
    {
     "name": "stdout",
     "output_type": "stream",
     "text": [
      "[[ 0.82373034  0.56698177]\n",
      " [-0.56698177  0.82373034]]\n",
      "[[ -1.86517468e-14  -6.34767021e-20]\n",
      " [ -6.34767021e-20  -1.87627691e-14]]\n",
      "1.0\n"
     ]
    }
   ],
   "source": [
    "# stability\n",
    "from numpy.random import rand\n",
    "A=np.eye(2)\n",
    "\n",
    "for r in rand(10000):\n",
    "    A = np.dot(so2(r), A)\n",
    "    \n",
    "print(A)\n",
    "print(np.dot(A.T,A)-np.eye(2))\n",
    "print(np.linalg.det(A))"
   ]
  }
 ],
 "metadata": {
  "celltoolbar": "Slideshow",
  "kernelspec": {
   "display_name": "Python 3",
   "language": "python",
   "name": "python3"
  },
  "language_info": {
   "codemirror_mode": {
    "name": "ipython",
    "version": 3
   },
   "file_extension": ".py",
   "mimetype": "text/x-python",
   "name": "python",
   "nbconvert_exporter": "python",
   "pygments_lexer": "ipython3",
   "version": "3.5.3"
  }
 },
 "nbformat": 4,
 "nbformat_minor": 2
}
