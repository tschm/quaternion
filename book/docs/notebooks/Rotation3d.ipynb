{
 "cells": [
  {
   "cell_type": "markdown",
   "metadata": {
    "slideshow": {
     "slide_type": "slide"
    },
    "pycharm": {
     "name": "#%% md\n"
    }
   },
   "source": [
    "# Rotationen in 3D\n",
    "\n",
    "\n"
   ]
  },
  {
   "cell_type": "markdown",
   "metadata": {
    "slideshow": {
     "slide_type": "slide"
    },
    "pycharm": {
     "name": "#%% md\n"
    }
   },
   "source": [
    "## Rotationen in 3D\n",
    "* Die Rotationsmatrizen $\\textrm{SO}(3)$\n",
    "* Die Eulerachse \n",
    "* Die Quaternionen "
   ]
  },
  {
   "cell_type": "code",
   "execution_count": 16,
   "metadata": {
    "slideshow": {
     "slide_type": "skip"
    },
    "pycharm": {
     "name": "#%%\n"
    }
   },
   "outputs": [],
   "source": [
    "import matplotlib.pyplot as plt\n",
    "def pp(ax, point, **kwargs):\n",
    "    ax.plot([0, point[0]], [0,point[1]], [0, point[2]], **kwargs)\n",
    "    \n",
    "    "
   ]
  },
  {
   "cell_type": "markdown",
   "metadata": {
    "collapsed": true,
    "slideshow": {
     "slide_type": "slide"
    },
    "pycharm": {
     "name": "#%% md\n"
    }
   },
   "source": [
    "## Rotationsmatrizen $\\textrm{SO}(3)$\n",
    "\n",
    "$3 \\times 3$ Matrizen, orthonormale Spalten und $\\det(A) = 1$.\n",
    "    \n",
    "Fertig? Matrizen manchmal etwas unhandlich. $9$ Einträge, Fragen der Stabilität?\n"
   ]
  },
  {
   "cell_type": "code",
   "execution_count": 17,
   "metadata": {
    "slideshow": {
     "slide_type": "slide"
    },
    "pycharm": {
     "name": "#%%\n"
    }
   },
   "outputs": [
    {
     "name": "stdout",
     "output_type": "stream",
     "text": [
      "Determinante von A: 0.9999999999999999\n",
      "Check if columns are orthonormal\n",
      "2.3111066129568027e-16\n"
     ]
    }
   ],
   "source": [
    "# construct a random SO(3) matrix\n",
    "\n",
    "import numpy as np\n",
    "\n",
    "# We construct a random element in SO(3)\n",
    "def rand_so3():\n",
    "    A = np.random.randn(3,3)\n",
    "    # normalize the first column\n",
    "    A[:,0]=A[:,0]/np.linalg.norm(A[:,0], 2)\n",
    "    # make the 2nd column orthogonal to first column\n",
    "    A[:,1]=A[:,1] - np.dot(A[:,0], A[:,1])*A[:,0]\n",
    "    # normalize the second column\n",
    "    A[:,1]=A[:,1]/np.linalg.norm(A[:,1], 2)\n",
    "    # The third column is just the cross product of the first two columns => det = 1\n",
    "    A[:,2]=np.cross(A[:,0],A[:,1])\n",
    "    return A\n",
    "\n",
    "A = rand_so3()\n",
    "print(\"Determinante von A: {0}\".format(np.linalg.det(A)))\n",
    "print(\"Check if columns are orthonormal\")\n",
    "print(np.linalg.norm(np.dot(A.T,A)-np.eye(3),'fro'))"
   ]
  },
  {
   "cell_type": "code",
   "execution_count": 18,
   "metadata": {
    "slideshow": {
     "slide_type": "slide"
    },
    "pycharm": {
     "name": "#%%\n"
    }
   },
   "outputs": [
    {
     "name": "stdout",
     "output_type": "stream",
     "text": [
      "Eigenwerte von A:\n",
      "       Real      Imag  Abs         phi\n",
      "0 -0.983415 -0.181368  1.0 -169.550563\n",
      "1 -0.983415  0.181368  1.0  169.550563\n",
      "2  1.000000  0.000000  1.0    0.000000\n",
      "\n",
      "Eigenwerte von A:\n",
      "       Real      Imag  Abs         phi\n",
      "0 -0.941165 -0.337948  1.0 -160.248082\n",
      "1 -0.941165  0.337948  1.0  160.248082\n",
      "2  1.000000  0.000000  1.0    0.000000\n",
      "\n",
      "Eigenwerte von A:\n",
      "      Real      Imag  Abs        phi\n",
      "0  0.34988 -0.936795  1.0 -69.520024\n",
      "1  0.34988  0.936795  1.0  69.520024\n",
      "2  1.00000  0.000000  1.0   0.000000\n",
      "\n"
     ]
    }
   ],
   "source": [
    "from numpy.linalg import eig\n",
    "import pandas as pd\n",
    "\n",
    "for i in range(0,3):\n",
    "    values, vectors = eig(rand_so3())\n",
    "    d = dict()\n",
    "    for j,value in enumerate(np.sort(values)):\n",
    "        d[j] = {\"Real\": value.real, \"Imag\": value.imag, \n",
    "                \"Abs\": np.abs(value), \"phi\": np.angle(value, deg=True)}\n",
    "    \n",
    "    print(\"Eigenwerte von A:\\n{0}\\n\".format(pd.DataFrame(d).transpose()[[\"Real\",\"Imag\",\"Abs\",\"phi\"]]))"
   ]
  },
  {
   "cell_type": "markdown",
   "metadata": {
    "slideshow": {
     "slide_type": "skip"
    },
    "pycharm": {
     "name": "#%% md\n"
    }
   },
   "source": [
    "* Es gibt immer einen Eigenwert 1\n",
    "* Eine reelle 3 x 3 Matrix hat immer mind. einen reellen Eigenwert\n",
    "* Das charakteristische Polynom einer 3x3 Matrix hat den Grad 3. \n",
    "* Ein Polynom vom Grad 3 hat mind eine reelle Nullstelle (das ist nicht wahr fuer Polynome vom Grad 2,4,6,...)\n",
    "* Was können Sie über die beiden anderen Eigenwerte sagen? \n",
    "* Was können Sie über das Produkt der Eigenwerte sagen?\n",
    "* Was bedeutet es geometrisch so einen Eigenwert zu haben?"
   ]
  },
  {
   "cell_type": "markdown",
   "metadata": {
    "collapsed": true,
    "slideshow": {
     "slide_type": "slide"
    },
    "pycharm": {
     "name": "#%% md\n"
    }
   },
   "source": [
    "## Beobachtungen\n",
    "* Es existiert ein Vektor x (reell), so dass A*x = x. Diese Vektor beschreibt die __Euler Achse__\n",
    "* Die beiden anderen Eigenwerte sind $z$ und $\\bar{z}$.\n",
    "* $A*x=x$ ist auch die Gleichung für die stationäre Verteilung einer Markovkette. $A$ ist dann die Transistion Matrix."
   ]
  },
  {
   "cell_type": "code",
   "execution_count": 19,
   "metadata": {
    "scrolled": true,
    "slideshow": {
     "slide_type": "slide"
    },
    "pycharm": {
     "name": "#%%\n"
    }
   },
   "outputs": [
    {
     "data": {
      "image/png": "[encoded data removed]",
      "text/plain": "<IPython.core.display.Image object>"
     },
     "execution_count": 19,
     "metadata": {},
     "output_type": "execute_result"
    }
   ],
   "source": [
    "from IPython.display import Image\n",
    "Image(\"Euler_AxisAngle.png\")"
   ]
  },
  {
   "cell_type": "markdown",
   "metadata": {
    "slideshow": {
     "slide_type": "slide"
    },
    "pycharm": {
     "name": "#%% md\n"
    }
   },
   "source": [
    "Jede Rotation in 3d ist also eine 2d Drehung um die Euler Achse. \n",
    "Eine solche Achse existiert immer! \n",
    "\n",
    "Punkte auf der Euler Achse bleiben unverändert.\n",
    "Jeder Punkt liegt in einer Ebene orthogonal zur Euler Achse und bleibt auch nach der Rotation in dieser Ebene.\n",
    "\n",
    "Die Berechnung der Euler Achse und des Drehwinkels $\\varphi$ ist etwas technisch (ergo Hausaufgabe)."
   ]
  },
  {
   "cell_type": "code",
   "execution_count": 20,
   "metadata": {
    "slideshow": {
     "slide_type": "skip"
    },
    "pycharm": {
     "name": "#%%\n"
    }
   },
   "outputs": [],
   "source": [
    "# There are always 3 of them! \n",
    "# one always seems to be 1\n",
    "# The other two eigenvalues are $z$ and $\\bar{z}$\n",
    "# Can we compute $\\mathbf{A}*n=n$ without too much hassle?\n",
    "# What's the interpretation of n?\n",
    "\n",
    "#A^T*n = A^T*A*n=n\n",
    "#(A^T - A)*n = 0\n",
    "#B = A^T-A = 0"
   ]
  },
  {
   "cell_type": "code",
   "execution_count": 21,
   "metadata": {
    "slideshow": {
     "slide_type": "slide"
    },
    "pycharm": {
     "name": "#%%\n"
    }
   },
   "outputs": [
    {
     "name": "stdout",
     "output_type": "stream",
     "text": [
      "1.7554167342883506e-16\n",
      "138.71762333872155\n"
     ]
    }
   ],
   "source": [
    "A = rand_so3()\n",
    "\n",
    "def euler(A, eps=1e-10):\n",
    "    assert np.abs(np.linalg.det(A)-1) < eps, \"Die Determinante der Matrix A ist {0}\".format(np.linalg.det(A))\n",
    "    assert np.linalg.norm(np.dot(A.T,A)-np.eye(3), 'fro') < eps, \"Die Matrix A ist nicht orthonormal\"\n",
    "    assert A.shape==(3,3), \"Die Matrix A ist nicht 3 x 3\"\n",
    "\n",
    "    theta = np.arccos((np.trace(A)-1)/2)\n",
    "    e_1 = A[2,1]-A[1,2]\n",
    "    e_2 = A[0,2]-A[2,0]\n",
    "    e_3 = A[1,0]-A[0,1]\n",
    "    \n",
    "    n = np.array([e_1,e_2,e_3]) \n",
    "    \n",
    "    assert np.abs(np.linalg.norm(n,2)-2*np.sin(theta)) < eps\n",
    "    return n/np.linalg.norm(n,2), theta\n",
    "    \n",
    "\n",
    "axis, angle = euler(A)\n",
    "# check if A*axis == n\n",
    "print(np.linalg.norm(np.dot(A,axis)-axis, 2))\n",
    "print(180*angle/np.pi)"
   ]
  },
  {
   "cell_type": "markdown",
   "metadata": {
    "collapsed": true,
    "slideshow": {
     "slide_type": "slide"
    },
    "pycharm": {
     "name": "#%% md\n"
    }
   },
   "source": [
    "* Die Idee ist es die Rotation als Paar aus Achse $(x_1, x_2, x_3)$ mit $x_1^2 + x_2^2 + x_3^2=1$ und Winkel $\\varphi$ anzugeben. Das schaffen wir eben genau mit den Quaternionen uns insbesondere den Versoren:\n",
    "\\\\[\n",
    "q = \\cos(\\varphi/2) + \\sin(\\varphi/2) (ix_1 + jx_2 + kx_3)\n",
    "\\\\]\n",
    "* Ein Vektor $x \\in \\mathbb{R}^3$ kann mit der reinen Quaternion \n",
    "\\\\[\n",
    "x_r = ix_1 + jx_2 + kx_3\n",
    "\\\\]\n",
    "identifiziert werden.\n",
    "* Die Multiplikation der Quaternionen folgt\n",
    "\\\\[\n",
    "i^2 = j^2 = k^2 = ijk = -1\n",
    "\\\\]\n",
    "* Die Rotation ist dann der vektorwertige Teil der Quaternion\n",
    "\\\\[\n",
    "x' = q x_r \\bar{q}\n",
    "\\\\]\n"
   ]
  },
  {
   "cell_type": "code",
   "execution_count": 22,
   "metadata": {
    "slideshow": {
     "slide_type": "slide"
    },
    "pycharm": {
     "name": "#%%\n"
    }
   },
   "outputs": [],
   "source": [
    "import numpy as np\n",
    "\n",
    "def fromSO3(A):\n",
    "    axis, angle = euler(A)\n",
    "    vector = np.sin(angle/2)*axis\n",
    "    return Quaternion(np.array([np.cos(angle/2), vector[0], vector[1], vector[2]]))\n",
    "    \n",
    "def fromSO3_fast(A):\n",
    "    q_r = 0.5*np.sqrt(1 + np.trace(A))\n",
    "    q_i = (A[2,1]- A[1,2])/(4*q_r)\n",
    "    q_j = (A[0,2]- A[2,0])/(4*q_r)\n",
    "    q_k = (A[1,0]- A[0,1])/(4*q_r)\n",
    "    return Quaternion(np.array([q_r, q_i, q_j, q_k]))\n",
    "\n",
    "    \n",
    "class Quaternion:\n",
    "    def __init__(self, q):\n",
    "        assert len(q) == 4\n",
    "        self.__q = q\n",
    "        # make the array immutable\n",
    "        self.__q.flags.writeable = False\n",
    "    \n",
    "    @property\n",
    "    def conjugate(self):\n",
    "        return Quaternion(np.array([self.__q[0], -self.__q[1], -self.__q[2], -self.__q[3]]))\n",
    "    \n",
    "    @property\n",
    "    def versor(self):\n",
    "        return Quaternion(self.__q/self.norm)\n",
    "    \n",
    "    @property\n",
    "    def norm(self):\n",
    "        return np.linalg.norm(self.__q, 2)\n",
    "    \n",
    "    def __repr__(self):\n",
    "        return \"Q{0}\".format(self.__q)\n",
    "    \n",
    "    def __mul__(self, other):\n",
    "        if isinstance(other, Quaternion):\n",
    "            w1, x1, y1, z1 = tuple(self.__q)\n",
    "            w2, x2, y2, z2 = tuple(other.__q)\n",
    "\n",
    "            w = w1 * w2 - x1 * x2 - y1 * y2 - z1 * z2\n",
    "            x = w1 * x2 + x1 * w2 + y1 * z2 - z1 * y2\n",
    "            y = w1 * y2 + y1 * w2 + z1 * x2 - x1 * z2\n",
    "            z = w1 * z2 + z1 * w2 + x1 * y2 - y1 * x2\n",
    "            return Quaternion(np.array([w, x, y, z]))\n",
    "        else:\n",
    "            raise NotImplementedError()\n",
    "    \n",
    "    def __rmul__(self, other):\n",
    "        return Quaternion(other*self.__q)\n",
    "    \n",
    "    def __add__(self, other):\n",
    "        return Quaternion(self.__q + other.__q)\n",
    "    \n",
    "    def rotate(self, x):\n",
    "        # construct the pure quaternion\n",
    "        z = Quaternion(np.array([0, x[0], x[1], x[2]]))\n",
    "        assert np.abs(self.norm-1) < 1e-10, \"The quaternion has to be a versor!\"\n",
    "        return (self*z*self.conjugate).vector\n",
    "    \n",
    "    @property\n",
    "    def so3(self):    \n",
    "        # there are less expensive formulas for this step. Howe\n",
    "        return np.apply_along_axis(self.rotate, 0, np.eye(3))\n",
    "        \n",
    "    @property\n",
    "    def vector(self):\n",
    "        return self.__q[1:]\n",
    "    \n",
    "    @property\n",
    "    def real(self):\n",
    "        return self.__q[0]\n",
    "    "
   ]
  },
  {
   "cell_type": "code",
   "execution_count": 23,
   "metadata": {
    "slideshow": {
     "slide_type": "slide"
    },
    "pycharm": {
     "name": "#%%\n"
    }
   },
   "outputs": [
    {
     "name": "stdout",
     "output_type": "stream",
     "text": [
      "[[ 0.13484891  0.60785423 -0.78251454]\n",
      " [-0.97727209  0.2119554  -0.0037649 ]\n",
      " [ 0.16356967  0.76523731  0.62262093]]\n",
      "0.9999999999999998\n",
      "2.87222309198762e-16\n"
     ]
    }
   ],
   "source": [
    "# compute a Matrix from SO3()\n",
    "A = rand_so3()\n",
    "print(A)\n",
    "print(np.linalg.det(A))\n",
    "print(np.linalg.norm(np.dot(A.T,A)-np.eye(3), 'fro'))"
   ]
  },
  {
   "cell_type": "code",
   "execution_count": 24,
   "metadata": {
    "slideshow": {
     "slide_type": "slide"
    },
    "pycharm": {
     "name": "#%%\n"
    }
   },
   "outputs": [
    {
     "name": "stdout",
     "output_type": "stream",
     "text": [
      "Q[ 0.70168106  0.27398567 -0.33707772 -0.56476026]\n",
      "1.3597399555105182e-16\n",
      "3.532708032038494e-16\n"
     ]
    }
   ],
   "source": [
    "q1=fromSO3(A)\n",
    "q2=fromSO3_fast(A)\n",
    "print(q1)\n",
    "print((q1+(-1*q2)).norm)\n",
    "print(np.linalg.norm(A-q2.so3))\n"
   ]
  },
  {
   "cell_type": "code",
   "execution_count": 25,
   "metadata": {
    "slideshow": {
     "slide_type": "slide"
    },
    "pycharm": {
     "name": "#%%\n"
    }
   },
   "outputs": [
    {
     "name": "stdout",
     "output_type": "stream",
     "text": [
      "Quaternion Q[ 0.70168106  0.27398567 -0.33707772 -0.56476026]\n",
      "Norm       1.0\n",
      "Real       0.7016810603187992\n",
      "Vector     [ 0.27398567 -0.33707772 -0.56476026]\n",
      "Versor     Q[ 0.70168106  0.27398567 -0.33707772 -0.56476026]\n",
      "Conjugate  Q[ 0.70168106 -0.27398567  0.33707772  0.56476026]\n"
     ]
    }
   ],
   "source": [
    "print(\"Quaternion {0}\".format(q1))\n",
    "print(\"Norm       {0}\".format(q1.norm))\n",
    "print(\"Real       {0}\".format(q1.real))\n",
    "print(\"Vector     {0}\".format(q1.vector))\n",
    "print(\"Versor     {0}\".format(q1.versor))\n",
    "print(\"Conjugate  {0}\".format(q1.conjugate))"
   ]
  },
  {
   "cell_type": "code",
   "execution_count": 26,
   "metadata": {
    "slideshow": {
     "slide_type": "slide"
    },
    "pycharm": {
     "name": "#%%\n"
    }
   },
   "outputs": [
    {
     "name": "stdout",
     "output_type": "stream",
     "text": [
      "Quaternion Vector (Euler-Achse) [ 0.27398567 -0.33707772 -0.56476026]\n",
      "Und rotiert                     [ 0.27398567 -0.33707772 -0.56476026]\n"
     ]
    }
   ],
   "source": [
    "print(\"Quaternion Vector (Euler-Achse) {0}\".format(q2.vector))\n",
    "print(\"Und rotiert                     {0}\".format(q2.rotate(x=q2.vector)))"
   ]
  },
  {
   "cell_type": "code",
   "execution_count": 27,
   "metadata": {
    "scrolled": true,
    "slideshow": {
     "slide_type": "slide"
    },
    "pycharm": {
     "name": "#%%\n"
    }
   },
   "outputs": [
    {
     "name": "stdout",
     "output_type": "stream",
     "text": [
      "Die Einheitsvektoren rotiert  \n",
      "[[ 0.13484891  0.60785423 -0.78251454]\n",
      " [-0.97727209  0.2119554  -0.0037649 ]\n",
      " [ 0.16356967  0.76523731  0.62262093]]\n",
      "Die Rotationsmatrix           \n",
      "[[ 0.13484891  0.60785423 -0.78251454]\n",
      " [-0.97727209  0.2119554  -0.0037649 ]\n",
      " [ 0.16356967  0.76523731  0.62262093]]\n"
     ]
    }
   ],
   "source": [
    "print(\"Die Einheitsvektoren rotiert  \\n{0}\".format(q2.so3))\n",
    "print(\"Die Rotationsmatrix           \\n{0}\".format(A))"
   ]
  },
  {
   "cell_type": "markdown",
   "metadata": {
    "slideshow": {
     "slide_type": "slide"
    },
    "pycharm": {
     "name": "#%% md\n"
    }
   },
   "source": [
    "## Aber warum?\n",
    "* Die Rotation von (vielen) Punkten mittels Quaternionen ist verglichen mit Rotationsmatrizen teuer.\n",
    "* Interessanter für Rotationen von Rotationen, numerisch stabiler...\n",
    "* Interpolation von Quaternionen (SLERP)..."
   ]
  },
  {
   "cell_type": "markdown",
   "metadata": {
    "slideshow": {
     "slide_type": "slide"
    },
    "pycharm": {
     "name": "#%% md\n"
    }
   },
   "source": [
    "## Alternative Representations of SO(3)\n",
    "siehe https://github.com/moble/quaternion\n",
    "\n",
    "Euler angles are pretty much the worst things ever and it makes me feel bad even supporting them. Quaternions are faster, more accurate, basically free of singularities, more intuitive, and generally easier to understand. You can work entirely without Euler angles (I certainly do). You absolutely never need them. \n",
    "\n",
    "Es gibt viele mögliche Representationen der Element von SO(3). Siehe https://en.wikipedia.org/wiki/Charts_on_SO(3)\n",
    "\n"
   ]
  },
  {
   "cell_type": "markdown",
   "metadata": {
    "slideshow": {
     "slide_type": "slide"
    },
    "pycharm": {
     "name": "#%% md\n"
    }
   },
   "source": [
    "Sie fliegen von Biel direkt zum Nordpol. Was ist Ihr Längengrad? Sie überfliegen den Nordpol und nehmen geradeaus Kurs auf Hawaii... Sie zeichnen den Längengrad auf. Was passiert am Nordpol?"
   ]
  },
  {
   "cell_type": "markdown",
   "metadata": {
    "slideshow": {
     "slide_type": "slide"
    },
    "pycharm": {
     "name": "#%% md\n"
    }
   },
   "source": [
    "### SLERP (interpolation of two quarterions)\n",
    "\n",
    "* special case: $q_0 = 1$, $q_1 = q = \\cos(\\theta) + \\sin(\\theta)\\mathbf{v}$ (Polarform)\n",
    "\n",
    "\\\\[\n",
    "SLERP(1, q, t) = q^t = \\cos(t\\theta) + \\sin(t\\theta)\\mathbf{v}\n",
    "\\\\]\n",
    "\n",
    "* normal case: $q_0$ and $q_1$ both unit quaternions:\n",
    "\n",
    "\\\\[\n",
    "SLERP(q_0, q_1, t) = (q_1 q_0^{-1})^t q_0\n",
    "\\\\]\n",
    "\n",
    "\n"
   ]
  },
  {
   "cell_type": "markdown",
   "metadata": {
    "slideshow": {
     "slide_type": "slide"
    },
    "pycharm": {
     "name": "#%% md\n"
    }
   },
   "source": [
    "## Zusammenfassung 1:\n",
    "* Komplexe Zahlen eng verwandt mit den Rotationsmatrizen SO(2).\n",
    "* Quaternionen eng verwandt mit den Rotationsmatrizen SO(3).\n",
    "* SO(2) eng verwandt mit SO(3), also Komplexe Zahlen eng verwandt mit Quaternionen."
   ]
  },
  {
   "cell_type": "markdown",
   "metadata": {
    "slideshow": {
     "slide_type": "slide"
    },
    "pycharm": {
     "name": "#%% md\n"
    }
   },
   "source": [
    "## Zusammenfassung 2:\n",
    "* Eine Rotation in 3D ist immer eine Rotation um eine feste Euler-Achse.\n",
    "* Die Euler-Achse ist der Eigenvektor (zum Eigenwert 1.0) einer Matrix aus SO(3).\n",
    "* Die Euler-Achse beschreibt den vektorwertigen Anteil der Quarternion."
   ]
  },
  {
   "cell_type": "markdown",
   "metadata": {
    "slideshow": {
     "slide_type": "slide"
    },
    "pycharm": {
     "name": "#%% md\n"
    }
   },
   "source": [
    "## Zusammenfassung 3:\n",
    "* Quarternionen insbesondere hilfreich bei vielen Rotationen weniger Punkte.\n",
    "* Rotationsmatrizen hilfreich bei wenigen Rotationen vieler Punkte.\n",
    "* Glückliches Leben auch ohne Quaternionen möglich, unmöglich aber ohne Lineare Algebra und Komplexe Zahlen."
   ]
  },
  {
   "cell_type": "markdown",
   "metadata": {
    "slideshow": {
     "slide_type": "slide"
    },
    "pycharm": {
     "name": "#%% md\n"
    }
   },
   "source": [
    "## Hausaufgaben:\n",
    "* Wie weit ist es von Biel nach Sydney\n",
    "* Sie leben in Biel. Sie hätten gerne mehr Sonne und weniger Nebel. Drehen Sie deshalb Biel nach Nizza. Hinweis: Drehen Sie um die Achse, die senkrecht auf der Ebene Biel-Nizza-Erdmittelpunkt steht. \n",
    "* Erweitern Sie die Python Klasse um eine Methode SLERP.\n",
    "* Wer war Olinde Rodrigues? Die Methode so3 in der Klasse Quaternion ist nicht wirklich optimal. Schlagen Sie eine Alternative vor...\n",
    "* Beweisen Sie, dass alle Eigenwerte einer orthonormalen Matrix Betrag $1$ haben.\n",
    "* Beweisen Sie, dass jede Matrix aus SO(5) eine Euler-Achse hat.\n",
    "* Sei $p$ ein Polynom mit ungeradem Grad. Beweisen Sie, dass es mind. eine reelle Nullstelle hat.\n",
    "    "
   ]
  }
 ],
 "metadata": {
  "celltoolbar": "Slideshow",
  "kernelspec": {
   "display_name": "Python 3",
   "language": "python",
   "name": "python3"
  },
  "language_info": {
   "codemirror_mode": {
    "name": "ipython",
    "version": 3
   },
   "file_extension": ".py",
   "mimetype": "text/x-python",
   "name": "python",
   "nbconvert_exporter": "python",
   "pygments_lexer": "ipython3",
   "version": "3.6.7"
  },
  "toc": {
   "base_numbering": 1.0,
   "nav_menu": {},
   "number_sections": false,
   "sideBar": false,
   "skip_h1_title": false,
   "title_cell": "Table of Contents",
   "title_sidebar": "Contents",
   "toc_cell": false,
   "toc_position": {},
   "toc_section_display": false,
   "toc_window_display": false
  }
 },
 "nbformat": 4,
 "nbformat_minor": 2
}