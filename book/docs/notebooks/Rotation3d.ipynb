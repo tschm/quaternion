{
 "cells": [
  {
   "cell_type": "code",
   "execution_count": 3,
   "metadata": {
    "slideshow": {
     "slide_type": "skip"
    }
   },
   "outputs": [
    {
     "ename": "ModuleNotFoundError",
     "evalue": "No module named 'matplotlib'",
     "traceback": [
      "\u001b[0;31m---------------------------------------------------------------------------\u001b[0m",
      "\u001b[0;31mModuleNotFoundError\u001b[0m                       Traceback (most recent call last)",
      "\u001b[0;32m<ipython-input-3-7a6b33cdc204>\u001b[0m in \u001b[0;36m<module>\u001b[0;34m()\u001b[0m\n\u001b[0;32m----> 1\u001b[0;31m \u001b[0mget_ipython\u001b[0m\u001b[0;34m(\u001b[0m\u001b[0;34m)\u001b[0m\u001b[0;34m.\u001b[0m\u001b[0mrun_line_magic\u001b[0m\u001b[0;34m(\u001b[0m\u001b[0;34m'matplotlib'\u001b[0m\u001b[0;34m,\u001b[0m \u001b[0;34m'notebook'\u001b[0m\u001b[0;34m)\u001b[0m\u001b[0;34m\u001b[0m\u001b[0;34m\u001b[0m\u001b[0m\n\u001b[0m",
      "\u001b[0;32m/opt/conda/envs/beakerx/lib/python3.6/site-packages/IPython/core/interactiveshell.py\u001b[0m in \u001b[0;36mrun_line_magic\u001b[0;34m(self, magic_name, line, _stack_depth)\u001b[0m\n\u001b[1;32m   2129\u001b[0m                 \u001b[0mkwargs\u001b[0m\u001b[0;34m[\u001b[0m\u001b[0;34m'local_ns'\u001b[0m\u001b[0;34m]\u001b[0m \u001b[0;34m=\u001b[0m \u001b[0msys\u001b[0m\u001b[0;34m.\u001b[0m\u001b[0m_getframe\u001b[0m\u001b[0;34m(\u001b[0m\u001b[0mstack_depth\u001b[0m\u001b[0;34m)\u001b[0m\u001b[0;34m.\u001b[0m\u001b[0mf_locals\u001b[0m\u001b[0;34m\u001b[0m\u001b[0;34m\u001b[0m\u001b[0m\n\u001b[1;32m   2130\u001b[0m             \u001b[0;32mwith\u001b[0m \u001b[0mself\u001b[0m\u001b[0;34m.\u001b[0m\u001b[0mbuiltin_trap\u001b[0m\u001b[0;34m:\u001b[0m\u001b[0;34m\u001b[0m\u001b[0;34m\u001b[0m\u001b[0m\n\u001b[0;32m-> 2131\u001b[0;31m                 \u001b[0mresult\u001b[0m \u001b[0;34m=\u001b[0m \u001b[0mfn\u001b[0m\u001b[0;34m(\u001b[0m\u001b[0;34m*\u001b[0m\u001b[0margs\u001b[0m\u001b[0;34m,\u001b[0m\u001b[0;34m**\u001b[0m\u001b[0mkwargs\u001b[0m\u001b[0;34m)\u001b[0m\u001b[0;34m\u001b[0m\u001b[0;34m\u001b[0m\u001b[0m\n\u001b[0m\u001b[1;32m   2132\u001b[0m             \u001b[0;32mreturn\u001b[0m \u001b[0mresult\u001b[0m\u001b[0;34m\u001b[0m\u001b[0;34m\u001b[0m\u001b[0m\n\u001b[1;32m   2133\u001b[0m \u001b[0;34m\u001b[0m\u001b[0m\n",
      "\u001b[0;32m<decorator-gen-107>\u001b[0m in \u001b[0;36mmatplotlib\u001b[0;34m(self, line)\u001b[0m\n",
      "\u001b[0;32m/opt/conda/envs/beakerx/lib/python3.6/site-packages/IPython/core/magic.py\u001b[0m in \u001b[0;36m<lambda>\u001b[0;34m(f, *a, **k)\u001b[0m\n\u001b[1;32m    185\u001b[0m     \u001b[0;31m# but it's overkill for just that one bit of state.\u001b[0m\u001b[0;34m\u001b[0m\u001b[0;34m\u001b[0m\u001b[0;34m\u001b[0m\u001b[0m\n\u001b[1;32m    186\u001b[0m     \u001b[0;32mdef\u001b[0m \u001b[0mmagic_deco\u001b[0m\u001b[0;34m(\u001b[0m\u001b[0marg\u001b[0m\u001b[0;34m)\u001b[0m\u001b[0;34m:\u001b[0m\u001b[0;34m\u001b[0m\u001b[0;34m\u001b[0m\u001b[0m\n\u001b[0;32m--> 187\u001b[0;31m         \u001b[0mcall\u001b[0m \u001b[0;34m=\u001b[0m \u001b[0;32mlambda\u001b[0m \u001b[0mf\u001b[0m\u001b[0;34m,\u001b[0m \u001b[0;34m*\u001b[0m\u001b[0ma\u001b[0m\u001b[0;34m,\u001b[0m \u001b[0;34m**\u001b[0m\u001b[0mk\u001b[0m\u001b[0;34m:\u001b[0m \u001b[0mf\u001b[0m\u001b[0;34m(\u001b[0m\u001b[0;34m*\u001b[0m\u001b[0ma\u001b[0m\u001b[0;34m,\u001b[0m \u001b[0;34m**\u001b[0m\u001b[0mk\u001b[0m\u001b[0;34m)\u001b[0m\u001b[0;34m\u001b[0m\u001b[0;34m\u001b[0m\u001b[0m\n\u001b[0m\u001b[1;32m    188\u001b[0m \u001b[0;34m\u001b[0m\u001b[0m\n\u001b[1;32m    189\u001b[0m         \u001b[0;32mif\u001b[0m \u001b[0mcallable\u001b[0m\u001b[0;34m(\u001b[0m\u001b[0marg\u001b[0m\u001b[0;34m)\u001b[0m\u001b[0;34m:\u001b[0m\u001b[0;34m\u001b[0m\u001b[0;34m\u001b[0m\u001b[0m\n",
      "\u001b[0;32m/opt/conda/envs/beakerx/lib/python3.6/site-packages/IPython/core/magics/pylab.py\u001b[0m in \u001b[0;36mmatplotlib\u001b[0;34m(self, line)\u001b[0m\n\u001b[1;32m     97\u001b[0m             \u001b[0mprint\u001b[0m\u001b[0;34m(\u001b[0m\u001b[0;34m\"Available matplotlib backends: %s\"\u001b[0m \u001b[0;34m%\u001b[0m \u001b[0mbackends_list\u001b[0m\u001b[0;34m)\u001b[0m\u001b[0;34m\u001b[0m\u001b[0;34m\u001b[0m\u001b[0m\n\u001b[1;32m     98\u001b[0m         \u001b[0;32melse\u001b[0m\u001b[0;34m:\u001b[0m\u001b[0;34m\u001b[0m\u001b[0;34m\u001b[0m\u001b[0m\n\u001b[0;32m---> 99\u001b[0;31m             \u001b[0mgui\u001b[0m\u001b[0;34m,\u001b[0m \u001b[0mbackend\u001b[0m \u001b[0;34m=\u001b[0m \u001b[0mself\u001b[0m\u001b[0;34m.\u001b[0m\u001b[0mshell\u001b[0m\u001b[0;34m.\u001b[0m\u001b[0menable_matplotlib\u001b[0m\u001b[0;34m(\u001b[0m\u001b[0margs\u001b[0m\u001b[0;34m.\u001b[0m\u001b[0mgui\u001b[0m\u001b[0;34m)\u001b[0m\u001b[0;34m\u001b[0m\u001b[0;34m\u001b[0m\u001b[0m\n\u001b[0m\u001b[1;32m    100\u001b[0m             \u001b[0mself\u001b[0m\u001b[0;34m.\u001b[0m\u001b[0m_show_matplotlib_backend\u001b[0m\u001b[0;34m(\u001b[0m\u001b[0margs\u001b[0m\u001b[0;34m.\u001b[0m\u001b[0mgui\u001b[0m\u001b[0;34m,\u001b[0m \u001b[0mbackend\u001b[0m\u001b[0;34m)\u001b[0m\u001b[0;34m\u001b[0m\u001b[0;34m\u001b[0m\u001b[0m\n\u001b[1;32m    101\u001b[0m \u001b[0;34m\u001b[0m\u001b[0m\n",
      "\u001b[0;32m/opt/conda/envs/beakerx/lib/python3.6/site-packages/IPython/core/interactiveshell.py\u001b[0m in \u001b[0;36menable_matplotlib\u001b[0;34m(self, gui)\u001b[0m\n\u001b[1;32m   3037\u001b[0m         \"\"\"\n\u001b[1;32m   3038\u001b[0m         \u001b[0;32mfrom\u001b[0m \u001b[0mIPython\u001b[0m\u001b[0;34m.\u001b[0m\u001b[0mcore\u001b[0m \u001b[0;32mimport\u001b[0m \u001b[0mpylabtools\u001b[0m \u001b[0;32mas\u001b[0m \u001b[0mpt\u001b[0m\u001b[0;34m\u001b[0m\u001b[0;34m\u001b[0m\u001b[0m\n\u001b[0;32m-> 3039\u001b[0;31m         \u001b[0mgui\u001b[0m\u001b[0;34m,\u001b[0m \u001b[0mbackend\u001b[0m \u001b[0;34m=\u001b[0m \u001b[0mpt\u001b[0m\u001b[0;34m.\u001b[0m\u001b[0mfind_gui_and_backend\u001b[0m\u001b[0;34m(\u001b[0m\u001b[0mgui\u001b[0m\u001b[0;34m,\u001b[0m \u001b[0mself\u001b[0m\u001b[0;34m.\u001b[0m\u001b[0mpylab_gui_select\u001b[0m\u001b[0;34m)\u001b[0m\u001b[0;34m\u001b[0m\u001b[0;34m\u001b[0m\u001b[0m\n\u001b[0m\u001b[1;32m   3040\u001b[0m \u001b[0;34m\u001b[0m\u001b[0m\n\u001b[1;32m   3041\u001b[0m         \u001b[0;32mif\u001b[0m \u001b[0mgui\u001b[0m \u001b[0;34m!=\u001b[0m \u001b[0;34m'inline'\u001b[0m\u001b[0;34m:\u001b[0m\u001b[0;34m\u001b[0m\u001b[0;34m\u001b[0m\u001b[0m\n",
      "\u001b[0;32m/opt/conda/envs/beakerx/lib/python3.6/site-packages/IPython/core/pylabtools.py\u001b[0m in \u001b[0;36mfind_gui_and_backend\u001b[0;34m(gui, gui_select)\u001b[0m\n\u001b[1;32m    271\u001b[0m     \"\"\"\n\u001b[1;32m    272\u001b[0m \u001b[0;34m\u001b[0m\u001b[0m\n\u001b[0;32m--> 273\u001b[0;31m     \u001b[0;32mimport\u001b[0m \u001b[0mmatplotlib\u001b[0m\u001b[0;34m\u001b[0m\u001b[0;34m\u001b[0m\u001b[0m\n\u001b[0m\u001b[1;32m    274\u001b[0m \u001b[0;34m\u001b[0m\u001b[0m\n\u001b[1;32m    275\u001b[0m     \u001b[0;32mif\u001b[0m \u001b[0mgui\u001b[0m \u001b[0;32mand\u001b[0m \u001b[0mgui\u001b[0m \u001b[0;34m!=\u001b[0m \u001b[0;34m'auto'\u001b[0m\u001b[0;34m:\u001b[0m\u001b[0;34m\u001b[0m\u001b[0;34m\u001b[0m\u001b[0m\n",
      "\u001b[0;31mModuleNotFoundError\u001b[0m: No module named 'matplotlib'"
     ],
     "output_type": "error"
    }
   ],
   "source": [
    "%matplotlib notebook"
   ]
  },
  {
   "cell_type": "markdown",
   "metadata": {
    "slideshow": {
     "slide_type": "slide"
    }
   },
   "source": [
    "## Rotationen in 3D\n",
    "### Thomas Schmelzer\n",
    "\n"
   ]
  },
  {
   "cell_type": "markdown",
   "metadata": {
    "slideshow": {
     "slide_type": "slide"
    }
   },
   "source": [
    "### Rotationen in 3D\n",
    "* Die Rotationsmatrizen $\\textrm{SO}(3)$\n",
    "* Die Eulerachse \n",
    "* Die Quaternionen "
   ]
  },
  {
   "cell_type": "code",
   "execution_count": 2,
   "metadata": {
    "slideshow": {
     "slide_type": "skip"
    }
   },
   "outputs": [
    {
     "ename": "ModuleNotFoundError",
     "evalue": "No module named 'matplotlib'",
     "traceback": [
      "\u001b[0;31m---------------------------------------------------------------------------\u001b[0m",
      "\u001b[0;31mModuleNotFoundError\u001b[0m                       Traceback (most recent call last)",
      "\u001b[0;32m<ipython-input-2-a632d556f2a9>\u001b[0m in \u001b[0;36m<module>\u001b[0;34m()\u001b[0m\n\u001b[0;32m----> 1\u001b[0;31m \u001b[0;32mimport\u001b[0m \u001b[0mmatplotlib\u001b[0m\u001b[0;34m.\u001b[0m\u001b[0mpyplot\u001b[0m \u001b[0;32mas\u001b[0m \u001b[0mplt\u001b[0m\u001b[0;34m\u001b[0m\u001b[0;34m\u001b[0m\u001b[0m\n\u001b[0m\u001b[1;32m      2\u001b[0m \u001b[0;32mimport\u001b[0m \u001b[0mnumpy\u001b[0m \u001b[0;32mas\u001b[0m \u001b[0mnp\u001b[0m\u001b[0;34m\u001b[0m\u001b[0;34m\u001b[0m\u001b[0m\n\u001b[1;32m      3\u001b[0m \u001b[0;34m\u001b[0m\u001b[0m\n\u001b[1;32m      4\u001b[0m \u001b[0;32mdef\u001b[0m \u001b[0mpp\u001b[0m\u001b[0;34m(\u001b[0m\u001b[0max\u001b[0m\u001b[0;34m,\u001b[0m \u001b[0mpoint\u001b[0m\u001b[0;34m,\u001b[0m \u001b[0;34m**\u001b[0m\u001b[0mkwargs\u001b[0m\u001b[0;34m)\u001b[0m\u001b[0;34m:\u001b[0m\u001b[0;34m\u001b[0m\u001b[0;34m\u001b[0m\u001b[0m\n\u001b[1;32m      5\u001b[0m     \u001b[0max\u001b[0m\u001b[0;34m.\u001b[0m\u001b[0mplot\u001b[0m\u001b[0;34m(\u001b[0m\u001b[0;34m[\u001b[0m\u001b[0;36m0\u001b[0m\u001b[0;34m,\u001b[0m \u001b[0mpoint\u001b[0m\u001b[0;34m[\u001b[0m\u001b[0;36m0\u001b[0m\u001b[0;34m]\u001b[0m\u001b[0;34m]\u001b[0m\u001b[0;34m,\u001b[0m \u001b[0;34m[\u001b[0m\u001b[0;36m0\u001b[0m\u001b[0;34m,\u001b[0m\u001b[0mpoint\u001b[0m\u001b[0;34m[\u001b[0m\u001b[0;36m1\u001b[0m\u001b[0;34m]\u001b[0m\u001b[0;34m]\u001b[0m\u001b[0;34m,\u001b[0m \u001b[0;34m[\u001b[0m\u001b[0;36m0\u001b[0m\u001b[0;34m,\u001b[0m \u001b[0mpoint\u001b[0m\u001b[0;34m[\u001b[0m\u001b[0;36m2\u001b[0m\u001b[0;34m]\u001b[0m\u001b[0;34m]\u001b[0m\u001b[0;34m,\u001b[0m \u001b[0;34m**\u001b[0m\u001b[0mkwargs\u001b[0m\u001b[0;34m)\u001b[0m\u001b[0;34m\u001b[0m\u001b[0;34m\u001b[0m\u001b[0m\n",
      "\u001b[0;31mModuleNotFoundError\u001b[0m: No module named 'matplotlib'"
     ],
     "output_type": "error"
    }
   ],
   "source": [
    "import matplotlib.pyplot as plt\n",
    "import numpy as np\n",
    "\n",
    "def pp(ax, point, **kwargs):\n",
    "    ax.plot([0, point[0]], [0,point[1]], [0, point[2]], **kwargs)\n",
    "    \n",
    "    "
   ]
  },
  {
   "cell_type": "markdown",
   "metadata": {
    "collapsed": true,
    "slideshow": {
     "slide_type": "slide"
    }
   },
   "source": [
    "### Rotationsmatrizen $\\textrm{SO}(3)$\n",
    "\n",
    "$3 \\times 3$ Matrizen, orthonormale Spalten und $\\det(A) = 1$.\n",
    "    \n",
    "Fertig? Matrizen manchmal etwas unhandlich. $9$ Einträge, Fragen der Stabilität?\n"
   ]
  },
  {
   "cell_type": "code",
   "execution_count": null,
   "metadata": {
    "slideshow": {
     "slide_type": "slide"
    }
   },
   "outputs": [],
   "source": [
    "# construct a random SO(3) matrix\n",
    "\n",
    "import numpy as np\n",
    "\n",
    "# We construct a random element in SO(3)\n",
    "def rand_so3():\n",
    "    A = np.random.randn(3,3)\n",
    "    # normalize the first column\n",
    "    A[:,0]=A[:,0]/np.linalg.norm(A[:,0], 2)\n",
    "    # make the 2nd column orthogonal to first column\n",
    "    A[:,1]=A[:,1] - np.dot(A[:,0], A[:,1])*A[:,0]\n",
    "    # normalize the second column\n",
    "    A[:,1]=A[:,1]/np.linalg.norm(A[:,1], 2)\n",
    "    # The third column is just the cross product of the first two columns => det = 1\n",
    "    A[:,2]=np.cross(A[:,0],A[:,1])\n",
    "    return A\n",
    "\n",
    "A = rand_so3()\n",
    "print(\"Determinante von A: {0}\".format(np.linalg.det(A)))\n",
    "print(\"Check if columns are orthonormal\")\n",
    "print(np.linalg.norm(np.dot(A.T,A)-np.eye(3),'fro'))"
   ]
  },
  {
   "cell_type": "code",
   "execution_count": null,
   "metadata": {
    "slideshow": {
     "slide_type": "slide"
    }
   },
   "outputs": [],
   "source": [
    "from numpy.linalg import eig\n",
    "import pandas as pd\n",
    "\n",
    "for i in range(0,3):\n",
    "    values, vectors = eig(rand_so3())\n",
    "    d = dict()\n",
    "    for j,value in enumerate(np.sort(values)):\n",
    "        d[j] = {\"Real\": value.real, \"Imag\": value.imag, \n",
    "                \"Abs\": np.abs(value), \"phi\": np.angle(value, deg=True)}\n",
    "    \n",
    "    print(\"Eigenwerte von A:\\n{0}\\n\".format(pd.DataFrame(d).transpose()[[\"Real\",\"Imag\",\"Abs\",\"phi\"]]))"
   ]
  },
  {
   "cell_type": "markdown",
   "metadata": {
    "slideshow": {
     "slide_type": "skip"
    }
   },
   "source": [
    "* Es gibt immer einen Eigenwert 1\n",
    "* Eine reelle 3 x 3 Matrix hat immer mind. einen reellen Eigenwert\n",
    "* Das charakteristische Polynom einer 3x3 Matrix hat den Grad 3. \n",
    "* Ein Polynom vom Grad 3 hat mind eine reelle Nullstelle (das ist nicht wahr fuer Polynome vom Grad 2,4,6,...)\n",
    "* Was können Sie über die beiden anderen Eigenwerte sagen? \n",
    "* Was können Sie über das Produkt der Eigenwerte sagen?\n",
    "* Was bedeutet es geometrisch so einen Eigenwert zu haben?"
   ]
  },
  {
   "cell_type": "markdown",
   "metadata": {
    "collapsed": true,
    "slideshow": {
     "slide_type": "slide"
    }
   },
   "source": [
    "### Beobachtungen\n",
    "* Es existiert ein Vektor x (reell), so dass A*x = x. Diese Vektor beschreibt die __Euler Achse__\n",
    "* Die beiden anderen Eigenwerte sind $z$ und $\\bar{z}$.\n",
    "* $A*x=x$ ist auch die Gleichung für die stationäre Verteilung einer Markovkette. $A$ ist dann die Transistion Matrix."
   ]
  },
  {
   "cell_type": "code",
   "execution_count": null,
   "metadata": {
    "scrolled": true,
    "slideshow": {
     "slide_type": "slide"
    }
   },
   "outputs": [],
   "source": [
    "from IPython.display import Image\n",
    "Image(\"Euler_AxisAngle.png\")"
   ]
  },
  {
   "cell_type": "code",
   "execution_count": null,
   "metadata": {
    "slideshow": {
     "slide_type": "skip"
    }
   },
   "outputs": [],
   "source": [
    "def baseimage3(a):\n",
    "    %matplotlib notebook\n",
    "    #import matplotlib as mpl\n",
    "    from mpl_toolkits.mplot3d import Axes3D\n",
    "    #import numpy as np\n",
    "    import matplotlib.pyplot as plt\n",
    "\n",
    "    fig = plt.figure()\n",
    "    ax = fig.gca(projection='3d')\n",
    "\n",
    "    from numpy.linalg import eig\n",
    "    values, vectors = eig(A)\n",
    "    i=np.argsort(values)\n",
    "    values=values[i]\n",
    "    euler=vectors[:,-1].real\n",
    "\n",
    "    pp(ax, point=np.array([1,0,0]), color=\"b\", linewidth=5)\n",
    "    pp(ax, point=np.array([0,1,0]), color=\"r\", linewidth=5)\n",
    "    pp(ax, point=np.array([0,0,1]), color=\"g\", linewidth=5)\n",
    "    pp(ax, point=a[:,0], color=\"b\", linewidth=5, linestyle=\"--\")\n",
    "    pp(ax, point=a[:,1], color=\"r\", linewidth=5, linestyle=\"--\")\n",
    "    pp(ax, point=a[:,2], color=\"g\", linewidth=5, linestyle=\"--\")\n",
    "    pp(ax, point=euler, color=\"k\", linewidth=5, linestyle=\"--\")\n",
    "        \n",
    "    plt.grid()\n",
    "    plt.show()"
   ]
  },
  {
   "cell_type": "code",
   "execution_count": null,
   "metadata": {
    "scrolled": true,
    "slideshow": {
     "slide_type": "slide"
    }
   },
   "outputs": [],
   "source": [
    "baseimage3(A)"
   ]
  },
  {
   "cell_type": "markdown",
   "metadata": {
    "slideshow": {
     "slide_type": "slide"
    }
   },
   "source": [
    "Jede Rotation in 3d ist also eine 2d Drehung um die Euler Achse. \n",
    "Eine solche Achse existiert immer! \n",
    "\n",
    "Punkte auf der Euler Achse bleiben unverändert.\n",
    "Jeder Punkt liegt in einer Ebene orthogonal zur Euler Achse und bleibt auch nach der Rotation in dieser Ebene.\n",
    "\n",
    "Die Berechnung der Euler Achse und des Drehwinkels $\\varphi$ ist etwas technisch (ergo Hausaufgabe)."
   ]
  },
  {
   "cell_type": "code",
   "execution_count": null,
   "metadata": {
    "slideshow": {
     "slide_type": "skip"
    }
   },
   "outputs": [],
   "source": [
    "# There are always 3 of them! \n",
    "# one always seems to be 1\n",
    "# The other two eigenvalues are $z$ and $\\bar{z}$\n",
    "# Can we compute $\\mathbf{A}*n=n$ without too much hassle?\n",
    "# What's the interpretation of n?\n",
    "\n",
    "#A^T*n = A^T*A*n=n\n",
    "#(A^T - A)*n = 0\n",
    "#B = A^T-A = 0"
   ]
  },
  {
   "cell_type": "code",
   "execution_count": null,
   "metadata": {
    "slideshow": {
     "slide_type": "slide"
    }
   },
   "outputs": [],
   "source": [
    "A = rand_so3()\n",
    "\n",
    "def euler(A, eps=1e-10):\n",
    "    assert np.abs(np.linalg.det(A)-1) < eps, \"Die Determinante der Matrix A ist {0}\".format(np.linalg.det(A))\n",
    "    assert np.linalg.norm(np.dot(A.T,A)-np.eye(3), 'fro') < eps, \"Die Matrix A ist nicht orthonormal\"\n",
    "    assert A.shape==(3,3), \"Die Matrix A ist nicht 3 x 3\"\n",
    "\n",
    "    theta = np.arccos((np.trace(A)-1)/2)\n",
    "    e_1 = A[2,1]-A[1,2]\n",
    "    e_2 = A[0,2]-A[2,0]\n",
    "    e_3 = A[1,0]-A[0,1]\n",
    "    \n",
    "    n = np.array([e_1,e_2,e_3]) \n",
    "    \n",
    "    assert np.abs(np.linalg.norm(n,2)-2*np.sin(theta)) < eps\n",
    "    return n/np.linalg.norm(n,2), theta\n",
    "    \n",
    "\n",
    "axis, angle = euler(A)\n",
    "# check if A*axis == n\n",
    "print(np.linalg.norm(np.dot(A,axis)-axis, 2))\n",
    "print(180*angle/np.pi)"
   ]
  },
  {
   "cell_type": "markdown",
   "metadata": {
    "collapsed": true,
    "slideshow": {
     "slide_type": "slide"
    }
   },
   "source": [
    "* Die Idee ist es die Rotation als Paar aus Achse $(x_1, x_2, x_3)$ mit $x_1^2 + x_2^2 + x_3^2=1$ und Winkel $\\varphi$ anzugeben. Das schaffen wir eben genau mit den Quaternionen uns insbesondere den Versoren:\n",
    "\\\\[\n",
    "q = \\cos(\\varphi/2) + \\sin(\\varphi/2) (ix_1 + jx_2 + kx_3)\n",
    "\\\\]\n",
    "* Ein Vektor $x \\in \\mathbb{R}^3$ kann mit der reinen Quaternion \n",
    "\\\\[\n",
    "x_r = ix_1 + jx_2 + kx_3\n",
    "\\\\]\n",
    "identifiziert werden.\n",
    "* Die Multiplikation der Quaternionen folgt\n",
    "\\\\[\n",
    "i^2 = j^2 = k^2 = ijk = -1\n",
    "\\\\]\n",
    "* Die Rotation ist dann der vektorwertige Teil der Quaternion\n",
    "\\\\[\n",
    "x' = q x_r \\bar{q}\n",
    "\\\\]\n"
   ]
  },
  {
   "cell_type": "code",
   "execution_count": null,
   "metadata": {
    "slideshow": {
     "slide_type": "slide"
    }
   },
   "outputs": [],
   "source": [
    "import numpy as np\n",
    "\n",
    "def fromSO3(A):\n",
    "    axis, angle = euler(A)\n",
    "    vector = np.sin(angle/2)*axis\n",
    "    return Quaternion(np.array([np.cos(angle/2), vector[0], vector[1], vector[2]]))\n",
    "    \n",
    "def fromSO3_fast(A):\n",
    "    q_r = 0.5*np.sqrt(1 + np.trace(A))\n",
    "    q_i = (A[2,1]- A[1,2])/(4*q_r)\n",
    "    q_j = (A[0,2]- A[2,0])/(4*q_r)\n",
    "    q_k = (A[1,0]- A[0,1])/(4*q_r)\n",
    "    return Quaternion(np.array([q_r, q_i, q_j, q_k]))\n",
    "\n",
    "    \n",
    "class Quaternion(object):\n",
    "    def __init__(self, q):\n",
    "        assert len(q) == 4\n",
    "        self.__q = q\n",
    "        # make the array immutable\n",
    "        self.__q.flags.writeable = False\n",
    "    \n",
    "    @property\n",
    "    def conjugate(self):\n",
    "        return Quaternion(np.array([self.__q[0], -self.__q[1], -self.__q[2], -self.__q[3]]))\n",
    "    \n",
    "    @property\n",
    "    def versor(self):\n",
    "        return Quaternion(self.__q/self.norm)\n",
    "    \n",
    "    @property\n",
    "    def norm(self):\n",
    "        return np.linalg.norm(self.__q, 2)\n",
    "    \n",
    "    def __repr__(self):\n",
    "        return \"Q{0}\".format(self.__q)\n",
    "    \n",
    "    def __mul__(self, other):\n",
    "        if isinstance(other, Quaternion):\n",
    "            w1, x1, y1, z1 = tuple(self.__q)\n",
    "            w2, x2, y2, z2 = tuple(other.__q)\n",
    "\n",
    "            w = w1 * w2 - x1 * x2 - y1 * y2 - z1 * z2\n",
    "            x = w1 * x2 + x1 * w2 + y1 * z2 - z1 * y2\n",
    "            y = w1 * y2 + y1 * w2 + z1 * x2 - x1 * z2\n",
    "            z = w1 * z2 + z1 * w2 + x1 * y2 - y1 * x2\n",
    "            return Quaternion(np.array([w, x, y, z]))\n",
    "        else:\n",
    "            raise NotImplementedError()\n",
    "    \n",
    "    def __rmul__(self, other):\n",
    "        return Quaternion(other*self.__q)\n",
    "    \n",
    "    def __add__(self, other):\n",
    "        return Quaternion(self.__q + other.__q)\n",
    "    \n",
    "    def rotate(self, x):\n",
    "        # construct the pure quaternion\n",
    "        z = Quaternion(np.array([0, x[0], x[1], x[2]]))\n",
    "        assert np.abs(self.norm-1) < 1e-10, \"The quaternion has to be a versor!\"\n",
    "        return (self*z*self.conjugate).vector\n",
    "    \n",
    "    @property\n",
    "    def so3(self):    \n",
    "        # there are less expensive formulas for this step. Howe\n",
    "        return np.apply_along_axis(self.rotate, 0, np.eye(3))\n",
    "        \n",
    "    @property\n",
    "    def vector(self):\n",
    "        return self.__q[1:]\n",
    "    \n",
    "    @property\n",
    "    def real(self):\n",
    "        return self.__q[0]\n",
    "    "
   ]
  },
  {
   "cell_type": "code",
   "execution_count": null,
   "metadata": {
    "slideshow": {
     "slide_type": "slide"
    }
   },
   "outputs": [],
   "source": [
    "# compute a Matrix from SO3()\n",
    "A = rand_so3()\n",
    "print(A)\n",
    "print(np.linalg.det(A))\n",
    "print(np.linalg.norm(np.dot(A.T,A)-np.eye(3), 'fro'))"
   ]
  },
  {
   "cell_type": "code",
   "execution_count": null,
   "metadata": {
    "slideshow": {
     "slide_type": "slide"
    }
   },
   "outputs": [],
   "source": [
    "q1=fromSO3(A)\n",
    "q2=fromSO3_fast(A)\n",
    "print(q1)\n",
    "print((q1+(-1*q2)).norm)\n",
    "print(np.linalg.norm(A-q2.so3))\n"
   ]
  },
  {
   "cell_type": "code",
   "execution_count": null,
   "metadata": {
    "slideshow": {
     "slide_type": "slide"
    }
   },
   "outputs": [],
   "source": [
    "print(\"Quaternion {0}\".format(q1))\n",
    "print(\"Norm       {0}\".format(q1.norm))\n",
    "print(\"Real       {0}\".format(q1.real))\n",
    "print(\"Vector     {0}\".format(q1.vector))\n",
    "print(\"Versor     {0}\".format(q1.versor))\n",
    "print(\"Conjugate  {0}\".format(q1.conjugate))"
   ]
  },
  {
   "cell_type": "code",
   "execution_count": null,
   "metadata": {
    "slideshow": {
     "slide_type": "slide"
    }
   },
   "outputs": [],
   "source": [
    "print(\"Quaternion Vector (Euler-Achse) {0}\".format(q2.vector))\n",
    "print(\"Und rotiert                     {0}\".format(q2.rotate(x=q2.vector)))"
   ]
  },
  {
   "cell_type": "code",
   "execution_count": null,
   "metadata": {
    "scrolled": true,
    "slideshow": {
     "slide_type": "slide"
    }
   },
   "outputs": [],
   "source": [
    "print(\"Die Einheitsvektoren rotiert  \\n{0}\".format(q2.so3))\n",
    "print(\"Die Rotationsmatrix           \\n{0}\".format(A))"
   ]
  },
  {
   "cell_type": "markdown",
   "metadata": {
    "slideshow": {
     "slide_type": "slide"
    }
   },
   "source": [
    "### Aber warum?\n",
    "* Die Rotation von (vielen) Punkten mittels Quaternionen ist verglichen mit Rotationsmatrizen teuer.\n",
    "* Interessanter für Rotationen von Rotationen, numerisch stabiler...\n",
    "* Interpolation von Quaternionen (SLERP)..."
   ]
  },
  {
   "cell_type": "markdown",
   "metadata": {
    "slideshow": {
     "slide_type": "slide"
    }
   },
   "source": [
    "### Alternative Representations of SO(3) \n",
    "siehe https://github.com/moble/quaternion\n",
    "\n",
    "Euler angles are pretty much the worst things ever and it makes me feel bad even supporting them. Quaternions are faster, more accurate, basically free of singularities, more intuitive, and generally easier to understand. You can work entirely without Euler angles (I certainly do). You absolutely never need them. \n",
    "\n",
    "Es gibt viele mögliche Representationen der Element von SO(3). Siehe https://en.wikipedia.org/wiki/Charts_on_SO(3)\n",
    "\n"
   ]
  },
  {
   "cell_type": "markdown",
   "metadata": {
    "slideshow": {
     "slide_type": "slide"
    }
   },
   "source": [
    "Sie fliegen von Biel direkt zum Nordpol. Was ist Ihr Längengrad? Sie überfliegen den Nordpol und nehmen geradeaus Kurs auf Hawaii... Sie zeichnen den Längengrad auf. Was passiert am Nordpol?"
   ]
  },
  {
   "cell_type": "markdown",
   "metadata": {
    "slideshow": {
     "slide_type": "slide"
    }
   },
   "source": [
    "### SLERP (interpolation of two quarterions)\n",
    "\n",
    "* special case: $q_0 = 1$, $q_1 = q = \\cos(\\theta) + \\sin(\\theta)\\mathbf{v}$ (Polarform)\n",
    "\n",
    "\\\\[\n",
    "SLERP(1, q, t) = q^t = \\cos(t\\theta) + \\sin(t\\theta)\\mathbf{v}\n",
    "\\\\]\n",
    "\n",
    "* normal case: $q_0$ and $q_1$ both unit quaternions:\n",
    "\n",
    "\\\\[\n",
    "SLERP(q_0, q_1, t) = (q_1 q_0^{-1})^t q_0\n",
    "\\\\]\n",
    "\n",
    "\n"
   ]
  },
  {
   "cell_type": "markdown",
   "metadata": {
    "slideshow": {
     "slide_type": "slide"
    }
   },
   "source": [
    "### Zusammenfassung 1:\n",
    "* Komplexe Zahlen eng verwandt mit den Rotationsmatrizen SO(2).\n",
    "* Quaternionen eng verwandt mit den Rotationsmatrizen SO(3).\n",
    "* SO(2) eng verwandt mit SO(3), also Komplexe Zahlen eng verwandt mit Quaternionen."
   ]
  },
  {
   "cell_type": "markdown",
   "metadata": {
    "slideshow": {
     "slide_type": "slide"
    }
   },
   "source": [
    "### Zusammenfassung 2:\n",
    "* Eine Rotation in 3D ist immer eine Rotation um eine feste Euler-Achse.\n",
    "* Die Euler-Achse ist der Eigenvektor (zum Eigenwert 1.0) einer Matrix aus SO(3).\n",
    "* Die Euler-Achse beschreibt den vektorwertigen Anteil der Quarternion."
   ]
  },
  {
   "cell_type": "markdown",
   "metadata": {
    "slideshow": {
     "slide_type": "slide"
    }
   },
   "source": [
    "### Zusammenfassung 3:\n",
    "* Quarternionen insbesondere hilfreich bei vielen Rotationen weniger Punkte.\n",
    "* Rotationsmatrizen hilfreich bei wenigen Rotationen vieler Punkte.\n",
    "* Glückliches Leben auch ohne Quaternionen möglich, unmöglich aber ohne Lineare Algebra und Komplexe Zahlen."
   ]
  },
  {
   "cell_type": "markdown",
   "metadata": {
    "slideshow": {
     "slide_type": "slide"
    }
   },
   "source": [
    "### Hausaufgaben:\n",
    "* Wie weit ist es von Biel nach Sydney\n",
    "* Sie leben in Biel. Sie hätten gerne mehr Sonne und weniger Nebel. Drehen Sie deshalb Biel nach Nizza. Hinweis: Drehen Sie um die Achse, die senkrecht auf der Ebene Biel-Nizza-Erdmittelpunkt steht. \n",
    "* Erweitern Sie die Python Klasse um eine Methode SLERP.\n",
    "* Wer war Olinde Rodrigues? Die Methode so3 in der Klasse Quaternion ist nicht wirklich optimal. Schlagen Sie eine Alternative vor...\n",
    "* Beweisen Sie, dass alle Eigenwerte einer orthonormalen Matrix Betrag $1$ haben.\n",
    "* Beweisen Sie, dass jede Matrix aus SO(5) eine Euler-Achse hat.\n",
    "* Sei $p$ ein Polynom mit ungeradem Grad. Beweisen Sie, dass es mind. eine reelle Nullstelle hat.\n",
    "   \n",
    "    \n",
    "   \n",
    "    \n",
    "    "
   ]
  }
 ],
 "metadata": {
  "celltoolbar": "Slideshow",
  "kernelspec": {
   "display_name": "Python 3",
   "language": "python",
   "name": "python3"
  },
  "language_info": {
   "codemirror_mode": {
    "name": "ipython",
    "version": 3
   },
   "file_extension": ".py",
   "mimetype": "text/x-python",
   "name": "python",
   "nbconvert_exporter": "python",
   "pygments_lexer": "ipython3",
   "version": "3.6.7"
  },
  "toc": {
   "base_numbering": 1.0,
   "nav_menu": {},
   "number_sections": false,
   "sideBar": false,
   "skip_h1_title": false,
   "title_cell": "Table of Contents",
   "title_sidebar": "Contents",
   "toc_cell": false,
   "toc_position": {},
   "toc_section_display": false,
   "toc_window_display": false
  }
 },
 "nbformat": 4,
 "nbformat_minor": 2
}
